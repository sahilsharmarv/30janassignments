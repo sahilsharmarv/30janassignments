{
 "cells": [
  {
   "cell_type": "code",
   "execution_count": null,
   "id": "811760b4-50f5-4c71-a3fa-ba7d92fea594",
   "metadata": {},
   "outputs": [],
   "source": [
    "1. Write a program to accept percentage from the user and display the grade according to the following creteria :\n",
    "    MARKS                                   GRADE\n",
    "    >90                                       A\n",
    "    >80 and <=90                              B\n",
    "    >=60 and <=80                             C\n",
    "    below 60                                  D\n"
   ]
  },
  {
   "cell_type": "code",
   "execution_count": 3,
   "id": "1c6d55f3-d960-4036-9416-e225bf9348b8",
   "metadata": {},
   "outputs": [
    {
     "name": "stdin",
     "output_type": "stream",
     "text": [
      "Enter the percentage :  88\n"
     ]
    },
    {
     "name": "stdout",
     "output_type": "stream",
     "text": [
      "B\n"
     ]
    }
   ],
   "source": [
    "percentage = int(input('Enter the percentage : '))\n",
    "if percentage > 90 :\n",
    "    print('A')\n",
    "elif percentage > 80 and percentage <= 90 :\n",
    "    print('B')\n",
    "elif percentage >= 60 and percentage <= 80 :\n",
    "    print('C')\n",
    "else :\n",
    "    print('D')"
   ]
  },
  {
   "cell_type": "code",
   "execution_count": null,
   "id": "f79ab115-d36e-4e7b-bcaf-7277a77885fe",
   "metadata": {},
   "outputs": [],
   "source": [
    "2. Write a program to accept the cost price of a bike and display the road tax to be paid according to the following criteria:\n",
    "    Tax                                       Cost price in RS.\n",
    "    15%                                          > 100000 \n",
    "    10%                                       >50000 and <= 100000\n",
    "    5%                                           <= 50000"
   ]
  },
  {
   "cell_type": "code",
   "execution_count": 4,
   "id": "bb24e7bb-9b08-4ecd-8948-9efa70dcce52",
   "metadata": {},
   "outputs": [
    {
     "name": "stdin",
     "output_type": "stream",
     "text": [
      "Enter the cost price of bike :  78000\n"
     ]
    },
    {
     "name": "stdout",
     "output_type": "stream",
     "text": [
      "The road tax you have to pay is 10%\n"
     ]
    }
   ],
   "source": [
    "price = int(input('Enter the cost price of bike : '))\n",
    "if price > 100000 :\n",
    "    print('The road tax you have to pay is 15%')\n",
    "elif price > 50000 and price <= 100000 :\n",
    "    print('The road tax you have to pay is 10%')\n",
    "else :\n",
    "    print('The road tax you have to pay is 5%')\n",
    "    "
   ]
  },
  {
   "cell_type": "code",
   "execution_count": null,
   "id": "e6a9ff1b-cd98-4974-8b26-51abc470d175",
   "metadata": {},
   "outputs": [],
   "source": [
    "3. Accept any city from the user and display monuments of that city. \n",
    "    CITY                                 MONUMENT\n",
    "    Delhi                                Red Fort\n",
    "    Agra                                 Taj Mahal\n",
    "    Jaipur                               Jai Mahal\n",
    "   "
   ]
  },
  {
   "cell_type": "code",
   "execution_count": 2,
   "id": "7b0f12e1-7a4a-4109-861e-393f1e2f17a2",
   "metadata": {},
   "outputs": [
    {
     "name": "stdin",
     "output_type": "stream",
     "text": [
      "Enter the name of city which have to know the monument of that :  delhi\n"
     ]
    },
    {
     "name": "stdout",
     "output_type": "stream",
     "text": [
      "Red Fort\n"
     ]
    }
   ],
   "source": [
    "city = str(input('Enter the name of city which have to know the monument of that : '))\n",
    "if city == 'Delhi' or 'DELHI' :\n",
    "    print('Red Fort')\n",
    "elif city == 'Agra' or 'AGRA':\n",
    "    print('Tah Mahal')\n",
    "elif city == 'Jaipur' or 'JAIPUR' :\n",
    "    print('Jai Mahal')\n",
    "else :\n",
    "    print('Work on it wait for upadation')"
   ]
  },
  {
   "cell_type": "code",
   "execution_count": null,
   "id": "b0a359cb-e1c7-4b25-a840-0865b7f21b7a",
   "metadata": {},
   "outputs": [],
   "source": [
    "4. Check how many times a given number can be divided by 3 before it is less than or equal to 10 ?"
   ]
  },
  {
   "cell_type": "code",
   "execution_count": 6,
   "id": "389ae29e-39f0-437d-a638-97bc962782cc",
   "metadata": {},
   "outputs": [
    {
     "name": "stdin",
     "output_type": "stream",
     "text": [
      "Enter the number :  1221\n"
     ]
    },
    {
     "name": "stdout",
     "output_type": "stream",
     "text": [
      "Total number of times 3 divided a number before it is less than or equal to is :  5\n"
     ]
    }
   ],
   "source": [
    "# Check how many times a given number can be divided by 3 before it is less than or equal to 10. \n",
    "num = int(input('Enter the number : '))\n",
    "count = 0\n",
    "while(num>10):\n",
    "    num = num / 3\n",
    "    count = count + 1\n",
    "print('Total number of times 3 divided a number before it is less than or equal to is : ' , count)"
   ]
  },
  {
   "cell_type": "code",
   "execution_count": null,
   "id": "1b116ac9-2f9e-4731-91c6-8a5178b755cb",
   "metadata": {},
   "outputs": [],
   "source": [
    "5. Why and When to Use while Loop in Python give a detailed description with example ?"
   ]
  },
  {
   "cell_type": "code",
   "execution_count": null,
   "id": "d08c9c7b-dd84-4880-8ce4-576a542d1847",
   "metadata": {},
   "outputs": [],
   "source": [
    "Python While Loop is used to execute a block of statements repeatedly until a given condition is satisfied.\n",
    "And when the condition becomes false, the line immediately after the loop in the program is executed.\n",
    "Here,\n",
    "A while loop evaluates the condition.\n",
    "If the condition evaluates to True, the code inside the while loop is executed.\n",
    "Condition is evaluated again.\n",
    "This process continues until the condition is False.\n",
    "When condition evaluates to False, the loop stops.\n",
    "You should use a while loop when the number of iterations needed to complete a task is unknown or dependent on user input. \n",
    "\n",
    "Here are some reasons why you might want to use a while loop:\n",
    "Unknown number of iterations :  If you do not know in advance how many times you need to execute a block of code, a while loop can be a useful tool. With a while loop, you can keep executing the code until a certain condition is met.\n",
    "Input validation :  When you need to validate user input, a while loop can be a good choice. For example, if you are asking the user to enter a number, you can use a while loop to keep prompting the user until they enter a valid number.\n",
    "Searching through data :  If you are searching through a list or other data structure, a while loop can be a useful way to iterate through the data until you find the value you are looking for.\n",
    "Numerical computation :  When you need to perform numerical computation, a while loop can be a useful tool. For example, you might use a while loop to iteratively refine an estimate of a numerical value until you reach a desired level of accuracy.\n",
    "SYNTAX :\n",
    "    \n",
    "while condition:\n",
    "      # Block of statement(s)\n",
    "        \n",
    "The while statement checks the condition. The condition must return a boolean value. Either True or False.\n",
    "Next, If the condition evaluates to true, the while statement executes the statements present inside its block.\n",
    "The while statement continues checking the condition in each iteration and keeps executing its block until the condition becomes false."
   ]
  },
  {
   "cell_type": "code",
   "execution_count": 4,
   "id": "92d75a2d-640f-4b54-ad82-cbdc4921b9b6",
   "metadata": {},
   "outputs": [
    {
     "name": "stdin",
     "output_type": "stream",
     "text": [
      "Enter the number :  1234\n"
     ]
    },
    {
     "name": "stdout",
     "output_type": "stream",
     "text": [
      "Total number of times 3 divided a number before it is less than or equal to is :  5\n"
     ]
    }
   ],
   "source": [
    "# Example of while loop\n",
    "# Check how many times a given number can be divided by 3 before it is less than or equal to 10. \n",
    "num = int(input('Enter the number : '))\n",
    "count = 0\n",
    "while(num>10):\n",
    "    num = num / 3\n",
    "    count = count + 1\n",
    "print('Total number of times 3 divided a number before it is less than or equal to is : ' , count)"
   ]
  },
  {
   "cell_type": "code",
   "execution_count": null,
   "id": "7ce3b7b6-a3bc-4211-a982-4156eccb5430",
   "metadata": {},
   "outputs": [],
   "source": [
    "6. Use nested while loop to print 3 different pattern ?"
   ]
  },
  {
   "cell_type": "code",
   "execution_count": 2,
   "id": "d28525c9-7597-4791-8cf4-e1d4e130155e",
   "metadata": {},
   "outputs": [
    {
     "name": "stdout",
     "output_type": "stream",
     "text": [
      "*\n",
      "**\n",
      "***\n",
      "****\n",
      "*****\n"
     ]
    }
   ],
   "source": [
    "# print increasing triangle star pattern\n",
    "n = 5\n",
    "for i in range (n):\n",
    "    for j in range (i+1):\n",
    "        print('*',end = '')\n",
    "    print()"
   ]
  },
  {
   "cell_type": "code",
   "execution_count": 1,
   "id": "fbf1c66d-5f71-4ae3-a980-cf3496641a55",
   "metadata": {},
   "outputs": [
    {
     "name": "stdout",
     "output_type": "stream",
     "text": [
      "11111\n",
      "2222\n",
      "333\n",
      "44\n",
      "5\n"
     ]
    }
   ],
   "source": [
    "# print decreasing triangle pattern\n",
    "n = 5\n",
    "for i in range (n):\n",
    "    for j in range (i,n):\n",
    "        print(i+1,end = '')\n",
    "    print()"
   ]
  },
  {
   "cell_type": "code",
   "execution_count": 2,
   "id": "959717ad-a76b-4c2c-99fe-0de8b88902d3",
   "metadata": {},
   "outputs": [
    {
     "name": "stdout",
     "output_type": "stream",
     "text": [
      "     #\n",
      "    ###\n",
      "   #####\n",
      "  #######\n",
      " #########\n"
     ]
    }
   ],
   "source": [
    "# print hill pattern\n",
    "n = 5\n",
    "for i in range (n):\n",
    "    for j in range(i,n):\n",
    "        print(' ', end = '')\n",
    "    for j in range (i):\n",
    "        print('#' , end = '')\n",
    "    for j in range (i+1):\n",
    "        print(\"#\" , end = '')\n",
    "    print()"
   ]
  },
  {
   "cell_type": "code",
   "execution_count": null,
   "id": "232dd60a-97c6-4a61-9f06-ab5edcc0bf1f",
   "metadata": {},
   "outputs": [],
   "source": [
    "7. Reverse a while loop to display numbers from 10 to 1 ?"
   ]
  },
  {
   "cell_type": "code",
   "execution_count": 3,
   "id": "54eb0335-7ddf-4e2e-bfd6-e4a5ad2a657c",
   "metadata": {},
   "outputs": [
    {
     "name": "stdout",
     "output_type": "stream",
     "text": [
      "10\n",
      "9\n",
      "8\n",
      "7\n",
      "6\n",
      "5\n",
      "4\n",
      "3\n",
      "2\n",
      "1\n"
     ]
    }
   ],
   "source": [
    "# reverse a while loop to print numbers from 10 to 1\n",
    "i = 10\n",
    "while i >= 1 :\n",
    "    print(i)\n",
    "    i = i-1"
   ]
  },
  {
   "cell_type": "code",
   "execution_count": null,
   "id": "30c8b731-da9c-420e-9ae0-a0857abfe639",
   "metadata": {},
   "outputs": [],
   "source": [
    "8. Reverse a while loop to display numbers from 10 to 1 ?"
   ]
  },
  {
   "cell_type": "code",
   "execution_count": 5,
   "id": "275a3ed6-f412-4fd6-9d00-416292923c06",
   "metadata": {},
   "outputs": [
    {
     "name": "stdout",
     "output_type": "stream",
     "text": [
      "10\n",
      "9\n",
      "8\n",
      "7\n",
      "6\n",
      "5\n",
      "4\n",
      "3\n",
      "2\n",
      "1\n"
     ]
    }
   ],
   "source": [
    "# reverse a while loop to print numbers from 10 to 1\n",
    "i = 10\n",
    "while i >= 1 :\n",
    "    print(i)\n",
    "    i = i-1"
   ]
  },
  {
   "cell_type": "code",
   "execution_count": null,
   "id": "97b4f0b4-42bf-486d-b14e-4e5eb10486a1",
   "metadata": {},
   "outputs": [],
   "source": []
  }
 ],
 "metadata": {
  "kernelspec": {
   "display_name": "Python 3 (ipykernel)",
   "language": "python",
   "name": "python3"
  },
  "language_info": {
   "codemirror_mode": {
    "name": "ipython",
    "version": 3
   },
   "file_extension": ".py",
   "mimetype": "text/x-python",
   "name": "python",
   "nbconvert_exporter": "python",
   "pygments_lexer": "ipython3",
   "version": "3.10.8"
  }
 },
 "nbformat": 4,
 "nbformat_minor": 5
}
